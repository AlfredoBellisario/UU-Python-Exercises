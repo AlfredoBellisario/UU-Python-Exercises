{
 "cells": [
  {
   "cell_type": "markdown",
   "metadata": {},
   "source": [
    "# Exercise 1"
   ]
  },
  {
   "cell_type": "code",
   "execution_count": 63,
   "metadata": {},
   "outputs": [],
   "source": [
    "import numpy as np"
   ]
  },
  {
   "cell_type": "code",
   "execution_count": 64,
   "metadata": {},
   "outputs": [],
   "source": [
    "#a. Create a null vector of size 10 but the fifth value which is 1\n",
    "null_v = np.zeros(10)\n",
    "null_v[4] = 1"
   ]
  },
  {
   "cell_type": "code",
   "execution_count": 65,
   "metadata": {},
   "outputs": [],
   "source": [
    "#b. Create a vector with values ranging from 10 to 49\n",
    "range_v = np.arange(10,49)\n"
   ]
  },
  {
   "cell_type": "code",
   "execution_count": 66,
   "metadata": {},
   "outputs": [],
   "source": [
    "#c. Reverse a vector (first element becomes last)\n",
    "reverse= range_v[::-1]"
   ]
  },
  {
   "cell_type": "code",
   "execution_count": 67,
   "metadata": {},
   "outputs": [
    {
     "name": "stdout",
     "output_type": "stream",
     "text": [
      "[[0 1 2]\n",
      " [3 4 5]\n",
      " [6 7 8]]\n"
     ]
    }
   ],
   "source": [
    "#d. Create a 3x3 matrix with values ranging from 0 to 8\n",
    "M = np.arange(0,9).reshape(3,3)\n",
    "print(M)"
   ]
  },
  {
   "cell_type": "code",
   "execution_count": 68,
   "metadata": {},
   "outputs": [
    {
     "name": "stdout",
     "output_type": "stream",
     "text": [
      "(array([0, 1, 4]),)\n"
     ]
    }
   ],
   "source": [
    "#e. Find indices of non-zero elements from [1,2,0,0,4,0]\n",
    "i = np.where(np.array([1,2,0,0,4,0]) != 0)\n",
    "print(i)"
   ]
  },
  {
   "cell_type": "code",
   "execution_count": 69,
   "metadata": {},
   "outputs": [],
   "source": [
    "#f. Create a random vector of size 30 and find the mean value\n",
    "mean = np.mean(np.random.random(30))"
   ]
  },
  {
   "cell_type": "code",
   "execution_count": 70,
   "metadata": {},
   "outputs": [
    {
     "name": "stdout",
     "output_type": "stream",
     "text": [
      "[[1 1 1 1 1 1 1]\n",
      " [1 0 0 0 0 0 1]\n",
      " [1 0 0 0 0 0 1]\n",
      " [1 0 0 0 0 0 1]\n",
      " [1 0 0 0 0 0 1]\n",
      " [1 0 0 0 0 0 1]\n",
      " [1 1 1 1 1 1 1]]\n"
     ]
    }
   ],
   "source": [
    "#g. Create a 2d array with 1 on the border and 0 inside\n",
    "dim = 7\n",
    "\n",
    "B = np.zeros((dim,dim), int)\n",
    "B[::dim-1,:] = 1\n",
    "B[:,::dim-1] = 1\n",
    "\n",
    "print(B)\n"
   ]
  },
  {
   "cell_type": "code",
   "execution_count": 71,
   "metadata": {},
   "outputs": [
    {
     "name": "stdout",
     "output_type": "stream",
     "text": [
      "[[1 0 1 0 1 0 1 0]\n",
      " [0 1 0 1 0 1 0 1]\n",
      " [1 0 1 0 1 0 1 0]\n",
      " [0 1 0 1 0 1 0 1]\n",
      " [1 0 1 0 1 0 1 0]\n",
      " [0 1 0 1 0 1 0 1]\n",
      " [1 0 1 0 1 0 1 0]\n",
      " [0 1 0 1 0 1 0 1]]\n"
     ]
    }
   ],
   "source": [
    "#h. Create a 8x8 matrix and fill it with a checkerboard pattern\n",
    "c = np.ones((8,8), int)\n",
    "\n",
    "c[1::2,::2] = 0\n",
    "c[::2,1::2] = 0\n",
    "\n",
    "print(c)\n"
   ]
  },
  {
   "cell_type": "code",
   "execution_count": 72,
   "metadata": {},
   "outputs": [
    {
     "name": "stdout",
     "output_type": "stream",
     "text": [
      "[[1 0 1 0 1 0 1 0]\n",
      " [0 1 0 1 0 1 0 1]\n",
      " [1 0 1 0 1 0 1 0]\n",
      " [0 1 0 1 0 1 0 1]\n",
      " [1 0 1 0 1 0 1 0]\n",
      " [0 1 0 1 0 1 0 1]\n",
      " [1 0 1 0 1 0 1 0]\n",
      " [0 1 0 1 0 1 0 1]]\n"
     ]
    }
   ],
   "source": [
    "#i. Create a checkerboard 8x8 matrix using the tile function\n",
    "matrix = np.diag((1,1))\n",
    "c2 = np.tile(matrix,(4,4))\n",
    "print(c2)"
   ]
  },
  {
   "cell_type": "code",
   "execution_count": 75,
   "metadata": {},
   "outputs": [
    {
     "name": "stdout",
     "output_type": "stream",
     "text": [
      "[ 0  1  2 -3 -4 -5 -6 -7 -8  9 10]\n"
     ]
    }
   ],
   "source": [
    "#j. Given a 1D array, negate all elements which are between 3 and 8, in place\n",
    "Z = np.arange(11)\n",
    "Z[3:9] = -Z[3:9]\n",
    "print(Z)\n"
   ]
  },
  {
   "cell_type": "code",
   "execution_count": 76,
   "metadata": {},
   "outputs": [
    {
     "name": "stdout",
     "output_type": "stream",
     "text": [
      "[0.06595449 0.22319372 0.43363795 0.52194564 0.58572346 0.7110077\n",
      " 0.74906299 0.78147625 0.85882621 0.92435973]\n"
     ]
    }
   ],
   "source": [
    "#k. Create a random vector of size 10 and sort it\n",
    "Z = np.random.random(10)\n",
    "Z = np.sort(Z)\n",
    "print(Z)"
   ]
  },
  {
   "cell_type": "code",
   "execution_count": 77,
   "metadata": {},
   "outputs": [
    {
     "name": "stdout",
     "output_type": "stream",
     "text": [
      "False\n"
     ]
    }
   ],
   "source": [
    "#l. Consider two random array A anb B, check if they are equal\n",
    "A = np.random.randint(0,2,5)\n",
    "B = np.random.randint(0,2,5)\n",
    "equal = np.array_equal(A,B)\n",
    "print(equal)"
   ]
  },
  {
   "cell_type": "code",
   "execution_count": 78,
   "metadata": {},
   "outputs": [
    {
     "name": "stdout",
     "output_type": "stream",
     "text": [
      "int32\n",
      "float32\n"
     ]
    }
   ],
   "source": [
    "#m. How to convert an integer (32 bits) array into a float (32 bits) in place?''\n",
    "Z = np.arange(10, dtype=np.int32)\n",
    "print(Z.dtype)\n",
    "Z = np.float32(Z)\n",
    "print(Z.dtype)"
   ]
  },
  {
   "cell_type": "code",
   "execution_count": 79,
   "metadata": {},
   "outputs": [
    {
     "name": "stdout",
     "output_type": "stream",
     "text": [
      "[ 18  66 132]\n"
     ]
    }
   ],
   "source": [
    "#n. How to get the diagonal of a dot product?\n",
    "A = np.arange(9).reshape(3,3)\n",
    "B = A + 1\n",
    "C = np.dot(A,B)\n",
    "D = np.diagonal(C)\n",
    "print(D)"
   ]
  },
  {
   "cell_type": "markdown",
   "metadata": {},
   "source": [
    "# Exercise 2"
   ]
  },
  {
   "cell_type": "code",
   "execution_count": null,
   "metadata": {},
   "outputs": [],
   "source": [
    "#I used the same code for solving exercise 2 from yesterday, therefore I defined some functions in the next cell \n",
    "#to solve day2 exercise without numpy\n",
    "\n",
    "N = 250 \n",
    "\n",
    "X = np.random.randint(100, size = (N,N))\n",
    "Y = np.random.randint(100, size = (N,N+1))\n",
    "Z = np.dot(X,Y)\n",
    "    \n",
    "result = Z.tolist()\n",
    "\n",
    "for r in result:\n",
    "    print(r)"
   ]
  },
  {
   "cell_type": "code",
   "execution_count": null,
   "metadata": {},
   "outputs": [],
   "source": [
    "import random\n",
    "\n",
    "def matrix_nn(N):\n",
    "    X =  [[random.randint(0, 100) for i in range(N)] for j in range(N)]\n",
    "    return X\n",
    "\n",
    "def matrix_nm(N):\n",
    "    Y = [[random.randint(0, 100) for i in range(N+1)] for j in range(N)]\n",
    "    return Y\n",
    "\n",
    "def matrix_dot(X,Y):\n",
    "    Z = [[sum(a*b for a,b in zip(X_row,Y_col)) for Y_col in zip(*Y)] for X_row in X]\n",
    "    return Z\n",
    "\n",
    "def printm(Z):\n",
    "    for r in Z:\n",
    "        print(r)\n",
    "\n",
    "def run(n = 250):\n",
    "    X= matrix_nn(N)\n",
    "    Y= matrix_nm(N)\n",
    "    Z= matrix_dot(X,Y)\n",
    "    printm(Z)\n",
    "\n",
    "run(N)"
   ]
  },
  {
   "cell_type": "markdown",
   "metadata": {},
   "source": [
    "# Exercise 3"
   ]
  },
  {
   "cell_type": "code",
   "execution_count": 99,
   "metadata": {},
   "outputs": [
    {
     "name": "stdout",
     "output_type": "stream",
     "text": [
      "Generic Name\n",
      "Alfredo Bellisario, PhDysics\n",
      "Filipe Maia, Pythonology and more snakes\n"
     ]
    }
   ],
   "source": [
    "#a. Create a \"Person\" class which takes firstname and lastname as arguments to the constructor (___init___) \n",
    "#and define a method that returns the full name of the person as a combined string.\n",
    "from classroom import Person, Student,Teacher \n",
    "\n",
    "randomguy = Person('Generic', 'Name')\n",
    "name = randomguy.whatsyourname()\n",
    "print(name)\n",
    "\n",
    "#b. Create a \"Student\" class which inherits from the \"Person\" class, takes the subject area as an additional argument to the constructor \n",
    "#and define a method that prints the full name and the subject area of the student.\n",
    "\n",
    "#c. You should be able now to use your \"Student\" class like this:\n",
    "\n",
    "me = Student('Alfredo', 'Bellisario', 'PhDysics') \n",
    "me.whatsyourstudent()\n",
    "\n",
    "#d. Create a \"Teacher\" class which also inherits from \"Person\", takes the name of the course (e.g. Python programming) as an argument \n",
    "#and define a method that prints the full name of the teacher and the course he teaches.\n",
    "\n",
    "teacher = Teacher('Filipe', 'Maia', 'Pythonology and more snakes')\n",
    "teacher.whatsyourprof()"
   ]
  },
  {
   "cell_type": "code",
   "execution_count": null,
   "metadata": {},
   "outputs": [],
   "source": []
  }
 ],
 "metadata": {
  "kernelspec": {
   "display_name": "Python 3",
   "language": "python",
   "name": "python3"
  },
  "language_info": {
   "codemirror_mode": {
    "name": "ipython",
    "version": 3
   },
   "file_extension": ".py",
   "mimetype": "text/x-python",
   "name": "python",
   "nbconvert_exporter": "python",
   "pygments_lexer": "ipython3",
   "version": "3.7.4"
  }
 },
 "nbformat": 4,
 "nbformat_minor": 2
}
